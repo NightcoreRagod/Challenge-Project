{
  "nbformat": 4,
  "nbformat_minor": 0,
  "metadata": {
    "colab": {
      "provenance": [],
      "authorship_tag": "ABX9TyNMB+1544KLKyZL0asKI6Hq",
      "include_colab_link": true
    },
    "kernelspec": {
      "name": "python3",
      "display_name": "Python 3"
    },
    "language_info": {
      "name": "python"
    }
  },
  "cells": [
    {
      "cell_type": "markdown",
      "metadata": {
        "id": "view-in-github",
        "colab_type": "text"
      },
      "source": [
        "<a href=\"https://colab.research.google.com/github/NightcoreRagod/Challenge-Project/blob/main/Myntra%20Fasion%20Clothing%20research.ipynb\" target=\"_parent\"><img src=\"https://colab.research.google.com/assets/colab-badge.svg\" alt=\"Open In Colab\"/></a>"
      ]
    },
    {
      "cell_type": "code",
      "source": [
        "import pandas as pd\n",
        "dataset = pd.read_csv('myn.csv')"
      ],
      "metadata": {
        "colab": {
          "base_uri": "https://localhost:8080/"
        },
        "id": "CbAJLXbzcF2K",
        "outputId": "b18e6fd8-026a-4ed7-c73f-7d82a4a9da49"
      },
      "execution_count": 4,
      "outputs": [
        {
          "output_type": "stream",
          "name": "stderr",
          "text": [
            "<ipython-input-4-d5f81cf1a733>:2: DtypeWarning: Columns (9) have mixed types. Specify dtype option on import or set low_memory=False.\n",
            "  dataset = pd.read_csv('myn.csv')\n"
          ]
        }
      ]
    },
    {
      "cell_type": "code",
      "execution_count": 10,
      "metadata": {
        "id": "21p88q9zbcTL"
      },
      "outputs": [],
      "source": [
        "x = dataset.drop(columns=[\"Individual_category\"])"
      ]
    },
    {
      "cell_type": "code",
      "source": [
        "y = dataset[\"Individual_category\"]"
      ],
      "metadata": {
        "id": "vmKAsIz_gKqz"
      },
      "execution_count": 11,
      "outputs": []
    },
    {
      "cell_type": "code",
      "source": [
        "from sklearn.model_selection import train_test_split\n",
        "\n",
        "x_train, x_test, y_train, y_test = train_test_split(x, y, test_size=0.2)"
      ],
      "metadata": {
        "id": "LOdNQU9Dh4XD"
      },
      "execution_count": 12,
      "outputs": []
    },
    {
      "cell_type": "code",
      "source": [
        "import tensorflow as tf\n",
        "\n",
        "model = tf.keras.models.Sequential()"
      ],
      "metadata": {
        "id": "EKqrXajniFMw"
      },
      "execution_count": 13,
      "outputs": []
    },
    {
      "cell_type": "code",
      "source": [
        "model.add(tf.keras.layers.Dense(256, input_shape=x_train.shape[1:], activation='sigmoid'))\n",
        "model.add(tf.keras.layers.Dense(256, activation='sigmoid'))\n",
        "model.add(tf.keras.layers.Dense(1, activation='sigmoid'))"
      ],
      "metadata": {
        "colab": {
          "base_uri": "https://localhost:8080/"
        },
        "id": "gxnlpZotib2I",
        "outputId": "4bae62fc-f1da-4f68-a982-a3e33d494df6"
      },
      "execution_count": 14,
      "outputs": [
        {
          "output_type": "stream",
          "name": "stderr",
          "text": [
            "/usr/local/lib/python3.10/dist-packages/keras/src/layers/core/dense.py:87: UserWarning: Do not pass an `input_shape`/`input_dim` argument to a layer. When using Sequential models, prefer using an `Input(shape)` object as the first layer in the model instead.\n",
            "  super().__init__(activity_regularizer=activity_regularizer, **kwargs)\n"
          ]
        }
      ]
    },
    {
      "cell_type": "code",
      "source": [
        "model.compile(optimizer='adam', loss='binary_crossentropy', metrics=['accuracy'])"
      ],
      "metadata": {
        "id": "xiDZX1ugie8r"
      },
      "execution_count": 15,
      "outputs": []
    },
    {
      "cell_type": "code",
      "source": [
        "from sklearn.preprocessing import OrdinalEncoder"
      ],
      "metadata": {
        "id": "v6GtIyTBin6N"
      },
      "execution_count": 20,
      "outputs": []
    },
    {
      "cell_type": "code",
      "source": [
        "encoder = OrdinalEncoder()"
      ],
      "metadata": {
        "id": "JSWYEqxKnBSC"
      },
      "execution_count": 22,
      "outputs": []
    },
    {
      "cell_type": "code",
      "source": [
        "dataset[[\"Individual_category\"]] = encoder.fit_transform(dataset[[\"Individual_category\"]])\n",
        "\n",
        "print(dataset)"
      ],
      "metadata": {
        "colab": {
          "base_uri": "https://localhost:8080/"
        },
        "id": "oOSC01ZcnCi6",
        "outputId": "878365a9-935d-4e33-bca4-bbdcbc0cc4cf"
      },
      "execution_count": 23,
      "outputs": [
        {
          "output_type": "stream",
          "name": "stdout",
          "text": [
            "                                                      URL  Product_id  \\\n",
            "0       https://www.myntra.com/jeans/roadster/roadster...     2296012   \n",
            "1       https://www.myntra.com/track-pants/locomotive/...    13780156   \n",
            "2       https://www.myntra.com/shirts/roadster/roadste...    11895958   \n",
            "3       https://www.myntra.com/shapewear/zivame/zivame...     4335679   \n",
            "4       https://www.myntra.com/tshirts/roadster/roadst...    11690882   \n",
            "...                                                   ...         ...   \n",
            "526559  https://www.myntra.com/sweaters/hm/hm-women-be...    16929990   \n",
            "526560  https://www.myntra.com/jackets/hm/hm-women-bla...    16026012   \n",
            "526561  https://www.myntra.com/dresses/250-designs/250...    17654114   \n",
            "526562  https://www.myntra.com/dresses/masaba/masaba-w...    12508700   \n",
            "526563  https://www.myntra.com/tshirts/jockey/jockey-w...    17856544   \n",
            "\n",
            "          BrandName               Category  Individual_category  \\\n",
            "0          Roadster            Bottom Wear                 30.0   \n",
            "1        LOCOMOTIVE            Bottom Wear                 85.0   \n",
            "2          Roadster                Topwear                 65.0   \n",
            "3            Zivame  Lingerie & Sleep Wear                 62.0   \n",
            "4          Roadster                Western                 89.0   \n",
            "...             ...                    ...                  ...   \n",
            "526559          H&M                Western                 76.0   \n",
            "526560          H&M                Western                 29.0   \n",
            "526561  250 DESIGNS                Western                 18.0   \n",
            "526562       Masaba                Western                 18.0   \n",
            "526563       Jockey                Western                 89.0   \n",
            "\n",
            "       category_by_Gender                                        Description  \\\n",
            "0                     Men  roadster men navy blue slim fit mid rise clean...   \n",
            "1                     Men  locomotive men black  white solid slim fit tra...   \n",
            "2                     Men  roadster men navy white  black geometric print...   \n",
            "3                   Women  zivame women black saree shapewear zi3023core0...   \n",
            "4                   Women  roadster women white solid v neck pure cotton ...   \n",
            "...                   ...                                                ...   \n",
            "526559              Women           hm women beige oversized cashmere jumper   \n",
            "526560              Women        hm women black water repellent parka jacket   \n",
            "526561              Women                 250 designs blue lace sheath dress   \n",
            "526562              Women           masaba women yellow printed a line dress   \n",
            "526563              Women         jockey women blue extended sleeves t shirt   \n",
            "\n",
            "        DiscountPrice (in Rs)  OriginalPrice (in Rs) DiscountOffer  \\\n",
            "0                       824.0                 1499.0       45% OFF   \n",
            "1                       517.0                 1149.0       55% OFF   \n",
            "2                       629.0                 1399.0       55% OFF   \n",
            "3                       893.0                 1295.0       31% OFF   \n",
            "4                         NaN                  599.0       35% OFF   \n",
            "...                       ...                    ...           ...   \n",
            "526559                    NaN                 9999.0           NaN   \n",
            "526560                    NaN                 9999.0           NaN   \n",
            "526561                    NaN                 9999.0           NaN   \n",
            "526562                    NaN                 9999.0           NaN   \n",
            "526563                    NaN                  799.0           NaN   \n",
            "\n",
            "                    SizeOption  Ratings  Reviews  \n",
            "0           28, 30, 32, 34, 36      3.9    999.0  \n",
            "1                  S, M, L, XL      4.0    999.0  \n",
            "2       38, 40, 42, 44, 46, 48      4.3    999.0  \n",
            "3             S, M, L, XL, XXL      4.2    999.0  \n",
            "4              XS, S, M, L, XL      4.2    999.0  \n",
            "...                        ...      ...      ...  \n",
            "526559             XS, S, M, L      NaN      NaN  \n",
            "526560         XS, S, M, L, XL      NaN      NaN  \n",
            "526561        S, M, L, XL, XXL      NaN      NaN  \n",
            "526562         XS, S, M, L, XL      NaN      NaN  \n",
            "526563                 S, M, L      NaN      NaN  \n",
            "\n",
            "[526564 rows x 13 columns]\n"
          ]
        }
      ]
    },
    {
      "cell_type": "code",
      "source": [],
      "metadata": {
        "id": "7IXHzvk3nhmS"
      },
      "execution_count": 27,
      "outputs": []
    },
    {
      "cell_type": "code",
      "source": [],
      "metadata": {
        "id": "8EXArRQFn3im"
      },
      "execution_count": null,
      "outputs": []
    }
  ]
}